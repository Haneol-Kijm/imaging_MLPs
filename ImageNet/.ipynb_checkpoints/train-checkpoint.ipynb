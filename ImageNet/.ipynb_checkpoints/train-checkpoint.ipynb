{
 "cells": [
  {
   "cell_type": "code",
   "execution_count": null,
   "id": "996f99da",
   "metadata": {},
   "outputs": [],
   "source": [
    "run config"
   ]
  },
  {
   "cell_type": "code",
   "execution_count": 1,
   "id": "ae2fa4aa",
   "metadata": {},
   "outputs": [],
   "source": [
    "import numpy as np\n",
    "from tqdm.notebook import tqdm\n",
    "import os\n",
    "\n",
    "from networks import *\n",
    "\n",
    "import torch\n",
    "import torch.nn as nn\n",
    "import torch.optim as optim\n",
    "from torch.utils.data import Dataset, DataLoader"
   ]
  },
  {
   "cell_type": "code",
   "execution_count": 2,
   "id": "65316465",
   "metadata": {},
   "outputs": [],
   "source": [
    "device = 'cuda:2'  #Enter device name\n",
    "tensorboard = 0    #Enter 1 if you wish to use tensorboard or 0 otherwise"
   ]
  },
  {
   "cell_type": "code",
   "execution_count": 3,
   "id": "d4fa293e",
   "metadata": {},
   "outputs": [],
   "source": [
    "t_split = 4000   # number of training images\n",
    "v_split = 100    # number of validation images \n",
    "batch_size = 12  # batch size\n",
    "\n",
    "max_epoch = 60   # training epochs\n",
    "lr = 0.001       # learning rate\n",
    "step_size = 50   # number of epochs at which learning rate decays\n",
    "gamma = 0.5      # facetor by which learning rate decays"
   ]
  },
  {
   "cell_type": "code",
   "execution_count": 4,
   "id": "7addf274",
   "metadata": {},
   "outputs": [],
   "source": [
    "############################## Choose Network you wish to train ###################################################"
   ]
  },
  {
   "cell_type": "code",
   "execution_count": 5,
   "id": "37f06dbb",
   "metadata": {},
   "outputs": [],
   "source": [
    "model_name = \"Img2Img_Mixer\" #any arbitrary name\n",
    "\n",
    "model = Img2Img_Mixer(\n",
    "        \n",
    "        img_size = 256,   #Image Size (assumed to be square image), here 256 x 256\n",
    "        img_channels = 3, #Image Channels, 3 for RGB, 1 for greyscale\n",
    "        patch_size = 4,   #Patch Size, P\n",
    "        embed_dim = 128,  #Embedding Dimension, C\n",
    "        num_layers = 16,  #Number of Mixer Layers, N\n",
    "        f_hidden = 4,     #Multiplication Factor for Hidden Dimensions, f\n",
    ")"
   ]
  },
  {
   "cell_type": "code",
   "execution_count": 6,
   "id": "c4a94dc0",
   "metadata": {},
   "outputs": [],
   "source": [
    "#model_name = \"Linear_Mixer\"\n",
    "\n",
    "#model = Linear_Mixer(\n",
    "#\n",
    "#        img_size = 256,   #Image Size (assumed to be square image), here 256 x 256\n",
    "#        img_channels = 3, #Image Channels, 3 for RGB, 1 for greyscale\n",
    "#        patch_size = 4,   #Patch Size, P\n",
    "#        embed_dim = 140,  #Embedding Dimension, C\n",
    "#        num_layers = 19,  #Number of Mixer Layers, N\n",
    "#        f_hidden = 4,     #Multiplication Factor for Hidden Dimensions, f\n",
    "#)"
   ]
  },
  {
   "cell_type": "code",
   "execution_count": 7,
   "id": "1477d454",
   "metadata": {},
   "outputs": [],
   "source": [
    "#model_name = \"Original_Mixer\"\n",
    "\n",
    "#model = Original_Mixer(\n",
    "#\n",
    "#        image_size = 256,            #Image Size (assumed to be square image), here 256 x 256\n",
    "#        channels = 3,                #Image Channels, 3 for RGB, 1 for greyscale\n",
    "#        patch_size = 4,              #Patch Size, P\n",
    "#        num_layers = 8,              #Number of Mixer Layers, N\n",
    "#        hidden_dim = 128,            #Embedding Dimension, C\n",
    "#        tokens_hidden_dim = 96,      #Hidden Dimension for Tokens\n",
    "#        channels_hidden_dim = 256    #Hidden Dimension for Channels\n",
    "#)"
   ]
  },
  {
   "cell_type": "code",
   "execution_count": 8,
   "id": "c9b81211",
   "metadata": {},
   "outputs": [],
   "source": [
    "#model_name = \"U_Mixer\"\n",
    "\n",
    "#model = U_Mixer(\n",
    "#        \n",
    "#        img_size = 256,    #Image Size (assumed to be square image), here 256 x 256\n",
    "#        img_channels = 3,  #Image Channels, 3 for RGB, 1 for greyscale\n",
    "#        embed_dim = 96,    #Embedding Dimension, C\n",
    "#)"
   ]
  },
  {
   "cell_type": "code",
   "execution_count": 9,
   "id": "99df77d9",
   "metadata": {},
   "outputs": [],
   "source": [
    "#model_name = \"Unet\"\n",
    "\n",
    "#model = Unet (\n",
    "    \n",
    "#        in_chans = 3,  #Number of channels in the input to the U-Net model\n",
    "#        out_chans = 3, #Number of channels in the output to the U-Net model\n",
    "#        chans = 21,    #Number of output channels of the first convolution layer\n",
    "#)    "
   ]
  },
  {
   "cell_type": "code",
   "execution_count": 10,
   "id": "e16f3083",
   "metadata": {},
   "outputs": [],
   "source": [
    "# model_name = \"ViT\"\n",
    "\n",
    "# net = VisionTransformer(\n",
    "#     avrg_img_size=256, \n",
    "#     patch_size=10, \n",
    "#     in_chans=3, embed_dim=44, \n",
    "#     depth=4, num_heads=6, mlp_ratio=4., \n",
    "#     )\n",
    "\n",
    "# model = ReconNet(net)"
   ]
  },
  {
   "cell_type": "code",
   "execution_count": 11,
   "id": "99333e7d",
   "metadata": {},
   "outputs": [],
   "source": [
    "###################################################################################################################"
   ]
  },
  {
   "cell_type": "code",
   "execution_count": 12,
   "id": "826f7066",
   "metadata": {},
   "outputs": [
    {
     "name": "stdout",
     "output_type": "stream",
     "text": [
      "Model size is:  3443456\n"
     ]
    }
   ],
   "source": [
    "model = model.to(device)\n",
    "print(\"Model size is: \",  sum(p.numel() for p in model.parameters() if p.requires_grad))"
   ]
  },
  {
   "cell_type": "code",
   "execution_count": null,
   "id": "4530e7d8",
   "metadata": {},
   "outputs": [],
   "source": [
    "##Load paths \n",
    "clean_train= data_path + 'clean_train/'\n",
    "noisy_train= data_path + 'noisy_train/'\n",
    "\n",
    "clean_val= data_path + 'clean_val/'\n",
    "noisy_val= data_path + 'noisy_val/'"
   ]
  },
  {
   "cell_type": "code",
   "execution_count": null,
   "id": "9d06a0bb",
   "metadata": {},
   "outputs": [],
   "source": [
    "##Prepare data\n",
    "class data():\n",
    "    \n",
    "    def __init__(self, path_clean, path_noisy):\n",
    "        self.path_clean = path_clean\n",
    "        self.path_noisy = path_noisy\n",
    "        \n",
    "    def __len__(self):\n",
    "        return len(os.listdir(self.path_clean))\n",
    "    \n",
    "    def __getitem__(self, idx):\n",
    "        \n",
    "        data= dict()\n",
    "        data['clean']= torch.load(self.path_clean + '{0:05}'.format(idx))\n",
    "        data['noisy']= torch.load(self.path_noisy + '{0:05}'.format(idx))\n",
    "\n",
    "        return data\n"
   ]
  },
  {
   "cell_type": "code",
   "execution_count": null,
   "id": "a605a0dd",
   "metadata": {},
   "outputs": [],
   "source": [
    "training_set=data(clean_train, noisy_train)\n",
    "validation_set=data(clean_val, noisy_val)\n",
    "\n",
    "\n",
    "t_diff= len(training_set)-t_split\n",
    "v_diff= len(validation_set)-v_split\n",
    "\n",
    "\n",
    "train_set, nth= torch.utils.data.random_split(training_set,[t_split,t_diff])\n",
    "val_set,   nth= torch.utils.data.random_split(validation_set,[v_split,v_diff])\n",
    "\n",
    "#Dataloader\n",
    "train_dl = DataLoader(train_set, batch_size= batch_size, shuffle=True)\n",
    "val_dl = DataLoader(val_set, batch_size=1, shuffle=False)\n"
   ]
  },
  {
   "cell_type": "code",
   "execution_count": null,
   "id": "f240946d",
   "metadata": {},
   "outputs": [],
   "source": [
    "##Functions\n",
    "\n",
    "##Loss\n",
    "def mse(gt: torch.Tensor, pred:torch.Tensor)-> torch.Tensor:\n",
    "    loss = torch.nn.MSELoss()\n",
    "    return loss(gt,pred)\n",
    "\n",
    "#train\n",
    "def train(model, optimizer, sample):\n",
    "    model.train()\n",
    "    \n",
    "    # reset optimizer's gradient\n",
    "    optimizer.zero_grad()\n",
    "\n",
    "    # define input and output\n",
    "    clean = sample['clean'].to(device)\n",
    "    noisy = sample['noisy'].to(device)\n",
    "      \n",
    "    # get the prediction\n",
    "    pred = model(noisy)\n",
    "    img = torch.clamp(noisy-pred, 0, 1)\n",
    "    pred_loss = mse(img, clean)\n",
    "    \n",
    "    #one step of training\n",
    "    pred_loss.backward()\n",
    "    optimizer.step()\n",
    "\n",
    "    return pred_loss.item()\n",
    "\n",
    "#test function\n",
    "def test(model, sample): \n",
    "    model.eval()\n",
    "    \n",
    "    with torch.no_grad(): \n",
    "        \n",
    "        # define input and output\n",
    "        clean = sample['clean'].to(device)\n",
    "        noisy = sample['noisy'].to(device)\n",
    "        \n",
    "        # get the prediction\n",
    "        pred = model(noisy)\n",
    "        img = torch.clamp(noisy-pred, 0, 1)\n",
    "        pred_loss = mse(img, clean)\n",
    "\n",
    "    return pred_loss.item()"
   ]
  },
  {
   "cell_type": "code",
   "execution_count": null,
   "id": "9e0b34e8",
   "metadata": {},
   "outputs": [],
   "source": [
    "if tensorboard:\n",
    "    \n",
    "    from tensorflow import summary\n",
    "    import tensorflow as tf\n",
    "    \n",
    "    train_log_dir = logs_path + model_name + '/train'\n",
    "    train_summary_writer = summary.create_file_writer(train_log_dir)\n",
    "    val_log_dir = logs_path + model_name + '/validate'\n",
    "    val_summary_writer = summary.create_file_writer(val_log_dir)"
   ]
  },
  {
   "cell_type": "code",
   "execution_count": null,
   "id": "7c1c9255",
   "metadata": {},
   "outputs": [],
   "source": [
    "least_loss = 9999\n",
    "\n",
    "optimizer = optim.Adam(model.parameters(), lr=lr, weight_decay=0)\n",
    "scheduler = optim.lr_scheduler.StepLR(optimizer, step_size=step_size, gamma=gamma)\n",
    "\n",
    "tmp_path = models_path  +'temp_' + model_name + '.pth'\n",
    "best_path = models_path +'best_' + model_name + '.pth'\n",
    "\n",
    "for epoch in tqdm(range(max_epoch)):\n",
    "    # Initialize Loss\n",
    "    train_loss = val_loss= 0.0\n",
    "    \n",
    "###############################################################################################################  \n",
    "                                             ###Train Phase\n",
    "    \n",
    "    ## Iterate over the train_dataloader\n",
    "    with tqdm(total=len(train_dl)) as pbar:\n",
    "        for sample in train_dl:            \n",
    "            curr_loss = train(model, optimizer, sample)\n",
    "            train_loss += curr_loss / len(train_dl) \n",
    "            pbar.update(1)\n",
    "    \n",
    "    scheduler.step()\n",
    "    \n",
    "    if tensorboard:\n",
    "        ## Write the current loss to Tensorboard\n",
    "        with train_summary_writer.as_default():\n",
    "            tf.summary.scalar('loss', train_loss, step=epoch)                \n",
    "        \n",
    "###################################################################################################################\n",
    "   \n",
    "    ## save the model and optimizer's information as a checkpoint\n",
    "    checkpoint = {\n",
    "         'model_state_dict': model.state_dict(),\n",
    "         'optimizer_state_dict': optimizer.state_dict()}\n",
    "    torch.save(checkpoint, tmp_path)\n",
    "\n",
    "###################################################################################################################\n",
    "                                             ###Validate Phase \n",
    "    \n",
    "    ## Iterate over the test_dataloader\n",
    "    with tqdm(total=len(val_dl)) as pbar:\n",
    "        for sample in val_dl: \n",
    "            curr_loss= test(model, sample)\n",
    "            val_loss += curr_loss / len(val_dl)\n",
    "            pbar.update(1)\n",
    "        \n",
    "    if tensorboard:\n",
    "        ## Write the current loss and accuracy to the Tensorboard\n",
    "        with val_summary_writer.as_default():\n",
    "            tf.summary.scalar('loss', val_loss, step=epoch)\n",
    "\n",
    "###################################################################################################################               \n",
    "    print(epoch, train_loss, val_loss)\n",
    "    \n",
    "    ##Save best model\n",
    "    least_loss = min(val_loss, least_loss)\n",
    "    if least_loss == val_loss:\n",
    "        torch.save(checkpoint, best_path)"
   ]
  }
 ],
 "metadata": {
  "kernelspec": {
   "display_name": "Python 3",
   "language": "python",
   "name": "python3"
  },
  "language_info": {
   "codemirror_mode": {
    "name": "ipython",
    "version": 3
   },
   "file_extension": ".py",
   "mimetype": "text/x-python",
   "name": "python",
   "nbconvert_exporter": "python",
   "pygments_lexer": "ipython3",
   "version": "3.7.7"
  }
 },
 "nbformat": 4,
 "nbformat_minor": 5
}
