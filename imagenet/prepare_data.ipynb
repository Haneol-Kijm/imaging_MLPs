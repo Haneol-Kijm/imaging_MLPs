{
 "cells": [
  {
   "cell_type": "code",
   "execution_count": 1,
   "id": "101abfc9",
   "metadata": {},
   "outputs": [],
   "source": [
    "run config"
   ]
  },
  {
   "cell_type": "code",
   "execution_count": 2,
   "id": "7ceb4172",
   "metadata": {},
   "outputs": [],
   "source": [
    "import numpy as np\n",
    "import torch\n",
    "import matplotlib.pyplot as plt\n",
    "from PIL import Image\n",
    "import os\n",
    "from tqdm import tqdm\n"
   ]
  },
  {
   "cell_type": "code",
   "execution_count": 3,
   "id": "c6c0d2a4",
   "metadata": {},
   "outputs": [],
   "source": [
    "def crop_center(img):    \n",
    "    new_width=256\n",
    "    new_height=256\n",
    "\n",
    "    width, height = img.size   # Get dimensions\n",
    "\n",
    "    left = (width - new_width)/2\n",
    "    top = (height - new_height)/2\n",
    "    right = (width + new_width)/2\n",
    "    bottom = (height + new_height)/2\n",
    "\n",
    "    # Crop the center of the image\n",
    "    img = img.crop((left, top, right, bottom))\n",
    "    \n",
    "    return np.array(img)\n",
    "\n",
    "def add_noise(img):\n",
    "    noise=np.float32(np.random.normal(0, 30/255, (3,256,256)))\n",
    "    noisy_img=np.clip(img+noise,0,1)\n",
    "    \n",
    "    return noisy_img"
   ]
  },
  {
   "cell_type": "code",
   "execution_count": 4,
   "id": "aacf0f77",
   "metadata": {},
   "outputs": [
    {
     "name": "stderr",
     "output_type": "stream",
     "text": [
      "100%|██████████| 1000/1000 [02:18<00:00,  7.23it/s]\n"
     ]
    }
   ],
   "source": [
    "k=0\n",
    "l=0\n",
    "m=0\n",
    "for i in tqdm(os.listdir(original_path)):\n",
    "    for j in range(11):\n",
    "        \n",
    "        if j<len(os.listdir(original_path+i)):\n",
    "            \n",
    "            img_path=os.listdir(original_path+i)[j]\n",
    "            img=Image.open(original_path+i+'/'+img_path)\n",
    "            img=crop_center(img)   ##crop center to 256x256\n",
    "            if len(img.shape)==2:                 ##check there aren't imgs with 2 channels only\n",
    "                img=img[:, :, None] * np.ones(3, dtype=int)[None, None, :]\n",
    "            img=img.reshape(3,256,256)            ##reshape to have number of channels first\n",
    "            img=np.float32(img/np.max(img))       ##convert to float\n",
    "            noisy_img= add_noise(img)\n",
    "\n",
    "            if m<970:\n",
    "                torch.save(torch.FloatTensor(img), data_path + 'clean_train/' + '{0:05}'.format(k))\n",
    "                torch.save(torch.FloatTensor(noisy_img), data_path + 'noisy_train/' + '{0:05}'.format(k))\n",
    "                k+=1\n",
    "            else:\n",
    "                torch.save(torch.FloatTensor(img), data_path + 'clean_val/' + '{0:05}'.format(l))\n",
    "                torch.save(torch.FloatTensor(noisy_img), data_path + 'noisy_val/' + '{0:05}'.format(l)) \n",
    "                l+=1\n",
    "        \n",
    "    m+=1\n",
    "        "
   ]
  },
  {
   "cell_type": "code",
   "execution_count": 6,
   "id": "1229c1b3",
   "metadata": {},
   "outputs": [
    {
     "data": {
      "text/plain": [
       "10655"
      ]
     },
     "execution_count": 6,
     "metadata": {},
     "output_type": "execute_result"
    }
   ],
   "source": [
    "len(os.listdir(data_path+'clean_train/'))"
   ]
  },
  {
   "cell_type": "code",
   "execution_count": null,
   "id": "13d1f5b6",
   "metadata": {},
   "outputs": [],
   "source": [
    "plt.imshow(torch.load(data_path+'clean_val/'+'328').reshape(256,256,3))"
   ]
  },
  {
   "cell_type": "code",
   "execution_count": null,
   "id": "09180a98",
   "metadata": {},
   "outputs": [],
   "source": [
    "plt.imshow(torch.load(data_path+'noisy_val/'+'00328').reshape(256,256,3))"
   ]
  },
  {
   "cell_type": "code",
   "execution_count": null,
   "id": "0491d8e1",
   "metadata": {},
   "outputs": [],
   "source": []
  }
 ],
 "metadata": {
  "kernelspec": {
   "display_name": "Python 3",
   "language": "python",
   "name": "python3"
  },
  "language_info": {
   "codemirror_mode": {
    "name": "ipython",
    "version": 3
   },
   "file_extension": ".py",
   "mimetype": "text/x-python",
   "name": "python",
   "nbconvert_exporter": "python",
   "pygments_lexer": "ipython3",
   "version": "3.8.3"
  }
 },
 "nbformat": 4,
 "nbformat_minor": 5
}
