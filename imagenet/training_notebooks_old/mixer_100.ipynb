{
 "cells": [
  {
   "cell_type": "code",
   "execution_count": 1,
   "id": "65316465",
   "metadata": {},
   "outputs": [],
   "source": [
    "device='cuda:2'"
   ]
  },
  {
   "cell_type": "code",
   "execution_count": 2,
   "id": "996f99da",
   "metadata": {},
   "outputs": [],
   "source": [
    "run config"
   ]
  },
  {
   "cell_type": "code",
   "execution_count": 3,
   "id": "ae2fa4aa",
   "metadata": {},
   "outputs": [],
   "source": [
    "import numpy as np\n",
    "from tqdm.notebook import tqdm\n",
    "import os\n",
    "\n",
    "from include import *\n",
    "\n",
    "import torch\n",
    "import torch.nn as nn\n",
    "import torch.optim as optim\n",
    "from torch.utils.data import Dataset, DataLoader\n",
    "\n",
    "from tensorflow import summary\n",
    "import tensorflow as tf"
   ]
  },
  {
   "cell_type": "code",
   "execution_count": 4,
   "id": "4530e7d8",
   "metadata": {},
   "outputs": [],
   "source": [
    "##Load paths \n",
    "clean_train= data_path + 'clean_train/'\n",
    "noisy_train= data_path + 'noisy_train/'\n",
    "\n",
    "clean_val= data_path + 'clean_val/'\n",
    "noisy_val= data_path + 'noisy_val/'"
   ]
  },
  {
   "cell_type": "code",
   "execution_count": 5,
   "id": "9d06a0bb",
   "metadata": {},
   "outputs": [],
   "source": [
    "##Prepare data\n",
    "class data():\n",
    "    \n",
    "    def __init__(self, path_clean, path_noisy):\n",
    "        self.path_clean = path_clean\n",
    "        self.path_noisy = path_noisy\n",
    "        \n",
    "    def __len__(self):\n",
    "        return len(os.listdir(self.path_clean))\n",
    "    \n",
    "    def __getitem__(self, idx):\n",
    "        \n",
    "        data= dict()\n",
    "        data['clean']= torch.load(self.path_clean + '{0:05}'.format(idx))\n",
    "        data['noisy']= torch.load(self.path_noisy + '{0:05}'.format(idx))\n",
    "\n",
    "        return data\n"
   ]
  },
  {
   "cell_type": "code",
   "execution_count": 6,
   "id": "a605a0dd",
   "metadata": {},
   "outputs": [],
   "source": [
    "training_set=data(clean_train, noisy_train)\n",
    "validation_set=data(clean_val, noisy_val)\n",
    "\n",
    "t_split= 100\n",
    "t_diff= len(training_set)-t_split\n",
    "\n",
    "v_split= 100\n",
    "v_diff= len(validation_set)-v_split\n",
    "\n",
    "\n",
    "train_set, nth= torch.utils.data.random_split(training_set,[t_split,t_diff])\n",
    "val_set,   nth= torch.utils.data.random_split(validation_set,[v_split,v_diff])\n",
    "\n",
    "#Dataloader\n",
    "train_dl = DataLoader(train_set, batch_size=32, shuffle=True)\n",
    "val_dl = DataLoader(val_set, batch_size=1, shuffle=False)\n"
   ]
  },
  {
   "cell_type": "code",
   "execution_count": 7,
   "id": "527d8db0",
   "metadata": {},
   "outputs": [],
   "source": [
    "model = Unet_Mixer().to(device)"
   ]
  },
  {
   "cell_type": "code",
   "execution_count": 8,
   "id": "91dcc6a5",
   "metadata": {},
   "outputs": [
    {
     "data": {
      "text/plain": [
       "6451136"
      ]
     },
     "execution_count": 8,
     "metadata": {},
     "output_type": "execute_result"
    }
   ],
   "source": [
    "sum(p.numel() for p in model.parameters() if p.requires_grad)"
   ]
  },
  {
   "cell_type": "code",
   "execution_count": 9,
   "id": "f240946d",
   "metadata": {},
   "outputs": [],
   "source": [
    "##Functions\n",
    "\n",
    "##Loss\n",
    "def mse(gt: torch.Tensor, pred:torch.Tensor)-> torch.Tensor:\n",
    "    loss = torch.nn.MSELoss()\n",
    "    return loss(gt,pred)\n",
    "\n",
    "#train\n",
    "def train(model, optimizer, sample):\n",
    "    model.train()\n",
    "    \n",
    "    # reset optimizer's gradient\n",
    "    optimizer.zero_grad()\n",
    "\n",
    "    # define input and output\n",
    "    clean = sample['clean'].to(device)\n",
    "    noisy = sample['noisy'].to(device)\n",
    "      \n",
    "    # get the prediction\n",
    "    pred = model(noisy)\n",
    "    img = torch.clamp(noisy-pred, 0, 1)\n",
    "    pred_loss = mse(img, clean)\n",
    "    \n",
    "    #one step of training\n",
    "    pred_loss.backward()\n",
    "    optimizer.step()\n",
    "\n",
    "    return pred_loss.item()\n",
    "\n",
    "#test function\n",
    "def test(model, sample): \n",
    "    model.eval()\n",
    "    \n",
    "    with torch.no_grad(): \n",
    "        \n",
    "        # define input and output\n",
    "        clean = sample['clean'].to(device)\n",
    "        noisy = sample['noisy'].to(device)\n",
    "        \n",
    "        # get the prediction\n",
    "        pred = model(noisy)\n",
    "        img = torch.clamp(noisy-pred, 0, 1)\n",
    "        pred_loss = mse(img, clean)\n",
    "\n",
    "    return pred_loss.item()"
   ]
  },
  {
   "cell_type": "code",
   "execution_count": 10,
   "id": "9e0b34e8",
   "metadata": {},
   "outputs": [],
   "source": [
    "#prepare tensorboard\n",
    "train_log_dir = logs_path + 'mixer_100/train'\n",
    "train_summary_writer = summary.create_file_writer(train_log_dir)\n",
    "val_log_dir = logs_path + 'mixer_100/validate'\n",
    "val_summary_writer = summary.create_file_writer(val_log_dir)"
   ]
  },
  {
   "cell_type": "code",
   "execution_count": 11,
   "id": "8c3e5dca",
   "metadata": {},
   "outputs": [],
   "source": [
    "optimizer = optim.Adam(model.parameters(), lr=0.002, weight_decay=0)\n",
    "scheduler = optim.lr_scheduler.StepLR(optimizer, step_size=50, gamma=0.5)"
   ]
  },
  {
   "cell_type": "code",
   "execution_count": null,
   "id": "7c1c9255",
   "metadata": {},
   "outputs": [
    {
     "data": {
      "application/vnd.jupyter.widget-view+json": {
       "model_id": "32bd31046e844a7d804a5e5b7382d81a",
       "version_major": 2,
       "version_minor": 0
      },
      "text/plain": [
       "HBox(children=(FloatProgress(value=0.0, max=150.0), HTML(value='')))"
      ]
     },
     "metadata": {},
     "output_type": "display_data"
    },
    {
     "data": {
      "application/vnd.jupyter.widget-view+json": {
       "model_id": "53ceede2aaa142ca8e76f93e587ddbde",
       "version_major": 2,
       "version_minor": 0
      },
      "text/plain": [
       "HBox(children=(FloatProgress(value=0.0, max=4.0), HTML(value='')))"
      ]
     },
     "metadata": {},
     "output_type": "display_data"
    },
    {
     "name": "stdout",
     "output_type": "stream",
     "text": [
      "\n"
     ]
    },
    {
     "data": {
      "application/vnd.jupyter.widget-view+json": {
       "model_id": "b5f0de30cfac467780bdde15e47f8bc3",
       "version_major": 2,
       "version_minor": 0
      },
      "text/plain": [
       "HBox(children=(FloatProgress(value=0.0), HTML(value='')))"
      ]
     },
     "metadata": {},
     "output_type": "display_data"
    }
   ],
   "source": [
    "max_epoch = 150\n",
    "least_loss = 9999\n",
    "tmp_path= models_path  +'temp_mixer_100.pth'\n",
    "best_path= models_path +'best_mixer_100.pth'\n",
    "\n",
    "for epoch in tqdm(range(max_epoch)):\n",
    "    # Initialize Loss and Accuracy\n",
    "    train_loss = val_loss= 0.0\n",
    "    \n",
    "###############################################################################################################  \n",
    "                                             ###Train Phase\n",
    "    \n",
    "    ## Iterate over the train_dataloader\n",
    "    with tqdm(total=len(train_dl)) as pbar:\n",
    "        for sample in train_dl:            \n",
    "            curr_loss = train(model, optimizer, sample)\n",
    "            train_loss += curr_loss / len(train_dl) \n",
    "            pbar.update(1)\n",
    "    \n",
    "    scheduler.step()\n",
    "    \n",
    "    ## Write the current loss to Tensorboard\n",
    "    with train_summary_writer.as_default():\n",
    "        tf.summary.scalar('loss', train_loss, step=epoch)                \n",
    "        \n",
    "###############################################################################################################\n",
    "   \n",
    "    ## save the model and optimizer's information as a checkpoint\n",
    "    checkpoint = {\n",
    "         'model_state_dict': model.state_dict(),\n",
    "         'optimizer_state_dict': optimizer.state_dict()}\n",
    "    torch.save(checkpoint, tmp_path)\n",
    "\n",
    "###############################################################################################################\n",
    "                                             ###Validate Phase \n",
    "    \n",
    "    ## Iterate over the test_dataloader\n",
    "    with tqdm(total=len(val_dl)) as pbar:\n",
    "        for sample in val_dl: \n",
    "            curr_loss= test(model, sample)\n",
    "            val_loss += curr_loss / len(val_dl)\n",
    "            pbar.update(1)\n",
    "        \n",
    "    ## Write the current loss and accuracy to the Tensorboard\n",
    "    with val_summary_writer.as_default():\n",
    "        tf.summary.scalar('loss', val_loss, step=epoch)\n",
    "           \n",
    "############################################################################################################### \n",
    "    \n",
    "    print(epoch, train_loss, val_loss)\n",
    "    \n",
    "    ##Save best model\n",
    "    least_loss = min(val_loss, least_loss)\n",
    "    if least_loss == val_loss:\n",
    "        torch.save(checkpoint, best_path)"
   ]
  }
 ],
 "metadata": {
  "kernelspec": {
   "display_name": "Python 3",
   "language": "python",
   "name": "python3"
  },
  "language_info": {
   "codemirror_mode": {
    "name": "ipython",
    "version": 3
   },
   "file_extension": ".py",
   "mimetype": "text/x-python",
   "name": "python",
   "nbconvert_exporter": "python",
   "pygments_lexer": "ipython3",
   "version": "3.8.3"
  }
 },
 "nbformat": 4,
 "nbformat_minor": 5
}
