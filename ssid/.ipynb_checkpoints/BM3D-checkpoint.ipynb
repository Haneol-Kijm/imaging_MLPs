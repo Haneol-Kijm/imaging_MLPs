{
 "cells": [
  {
   "cell_type": "code",
   "execution_count": 1,
   "id": "a0ed8671",
   "metadata": {},
   "outputs": [],
   "source": [
    "run config"
   ]
  },
  {
   "cell_type": "code",
   "execution_count": 2,
   "id": "f837b256",
   "metadata": {},
   "outputs": [],
   "source": [
    "import bm3d\n",
    "import numpy as np\n",
    "from tqdm.notebook import tqdm\n",
    "import os\n",
    "\n",
    "import torch\n",
    "\n",
    "from skimage.metrics import peak_signal_noise_ratio\n",
    "PSNR= peak_signal_noise_ratio"
   ]
  },
  {
   "cell_type": "code",
   "execution_count": 3,
   "id": "55d323c4",
   "metadata": {},
   "outputs": [],
   "source": [
    "##Load paths \n",
    "clean_val= data_path + 'clean_val/'\n",
    "noisy_val= data_path + 'noisy_val/'"
   ]
  },
  {
   "cell_type": "code",
   "execution_count": 4,
   "id": "1ea55a96",
   "metadata": {},
   "outputs": [],
   "source": [
    "##Prepare data\n",
    "class data():\n",
    "    \n",
    "    def __init__(self, path_clean, path_noisy):\n",
    "        self.path_clean = path_clean\n",
    "        self.path_noisy = path_noisy\n",
    "        \n",
    "    def __len__(self):\n",
    "        return len(os.listdir(self.path_clean))\n",
    "    \n",
    "    def __getitem__(self, idx):\n",
    "        \n",
    "        data= dict()\n",
    "        data['clean']= torch.load(self.path_clean + '{0:04}'.format(idx))\n",
    "        data['noisy']= torch.load(self.path_noisy + '{0:04}'.format(idx))\n",
    "\n",
    "        return data\n",
    " "
   ]
  },
  {
   "cell_type": "code",
   "execution_count": 5,
   "id": "15aacaad",
   "metadata": {},
   "outputs": [],
   "source": [
    "val_set=data(clean_val, noisy_val)"
   ]
  },
  {
   "cell_type": "code",
   "execution_count": null,
   "id": "1f46e51c",
   "metadata": {},
   "outputs": [
    {
     "data": {
      "application/vnd.jupyter.widget-view+json": {
       "model_id": "9c2753fd5f4d49368e36bb97010ac2e8",
       "version_major": 2,
       "version_minor": 0
      },
      "text/plain": [
       "HBox(children=(FloatProgress(value=0.0, max=11.0), HTML(value='')))"
      ]
     },
     "metadata": {},
     "output_type": "display_data"
    },
    {
     "data": {
      "application/vnd.jupyter.widget-view+json": {
       "model_id": "2394d1146e7f4a42b550590e28198a8e",
       "version_major": 2,
       "version_minor": 0
      },
      "text/plain": [
       "HBox(children=(FloatProgress(value=0.0, max=50.0), HTML(value='')))"
      ]
     },
     "metadata": {},
     "output_type": "display_data"
    }
   ],
   "source": [
    "#psnr=0\n",
    "\n",
    "store=[]\n",
    "\n",
    "for sigma in tqdm((20,21,22,23,24,25,26,27,28,29,30)):\n",
    "    psnr=0\n",
    "    for i in tqdm(range(50)):\n",
    "        noisy_img = val_set[i]['noisy'].permute(1,2,0)\n",
    "        cleaned_img = bm3d.bm3d(noisy_img, sigma/255)\n",
    "        img = np.float32(np.clip(cleaned_img,0,1))\n",
    "        original = val_set[i]['clean'].permute(1,2,0).numpy()\n",
    "        psnr+= PSNR(img,original)\n",
    "        \n",
    "    store.append(psnr/50)    \n",
    "        \n",
    "#print(psnr/len(val_set))          "
   ]
  },
  {
   "cell_type": "code",
   "execution_count": 9,
   "id": "c0ebb228",
   "metadata": {},
   "outputs": [
    {
     "data": {
      "text/plain": [
       "[19.52332959248198,\n",
       " 19.621040119919595,\n",
       " 19.7145702962456,\n",
       " 19.803649660451576,\n",
       " 19.88795302282457,\n",
       " 19.96786114615104,\n",
       " 20.04340385329347,\n",
       " 20.114036034016006,\n",
       " 20.179770155191616,\n",
       " 20.241094517197823,\n",
       " 20.2979894262778]"
      ]
     },
     "execution_count": 9,
     "metadata": {},
     "output_type": "execute_result"
    }
   ],
   "source": [
    "store"
   ]
  },
  {
   "cell_type": "code",
   "execution_count": null,
   "id": "2bd16ecf",
   "metadata": {},
   "outputs": [],
   "source": []
  }
 ],
 "metadata": {
  "kernelspec": {
   "display_name": "Python 3",
   "language": "python",
   "name": "python3"
  },
  "language_info": {
   "codemirror_mode": {
    "name": "ipython",
    "version": 3
   },
   "file_extension": ".py",
   "mimetype": "text/x-python",
   "name": "python",
   "nbconvert_exporter": "python",
   "pygments_lexer": "ipython3",
   "version": "3.8.3"
  }
 },
 "nbformat": 4,
 "nbformat_minor": 5
}
