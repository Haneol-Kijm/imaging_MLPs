{
 "cells": [
  {
   "cell_type": "code",
   "execution_count": 1,
   "id": "7ae4f6e3",
   "metadata": {},
   "outputs": [],
   "source": [
    "device='cuda:0'"
   ]
  },
  {
   "cell_type": "code",
   "execution_count": 2,
   "id": "8b8bc39e",
   "metadata": {},
   "outputs": [],
   "source": [
    "run config"
   ]
  },
  {
   "cell_type": "code",
   "execution_count": 3,
   "id": "479af97b",
   "metadata": {},
   "outputs": [],
   "source": [
    "import numpy as np\n",
    "from tqdm.notebook import tqdm\n",
    "import os\n",
    "\n",
    "from include import *\n",
    "\n",
    "import torch\n",
    "from torch.utils.data import Dataset, DataLoader\n",
    "\n",
    "from skimage.metrics import peak_signal_noise_ratio\n",
    "PSNR= peak_signal_noise_ratio"
   ]
  },
  {
   "cell_type": "code",
   "execution_count": 4,
   "id": "01b67f6f",
   "metadata": {},
   "outputs": [],
   "source": [
    "##Load paths \n",
    "clean_val= data_path + 'clean_val/'\n",
    "noisy_val= data_path + 'noisy_val/'"
   ]
  },
  {
   "cell_type": "code",
   "execution_count": 5,
   "id": "21eb85cb",
   "metadata": {},
   "outputs": [],
   "source": [
    "##Prepare data\n",
    "class data():\n",
    "    \n",
    "    def __init__(self, path_clean, path_noisy):\n",
    "        self.path_clean = path_clean\n",
    "        self.path_noisy = path_noisy\n",
    "        \n",
    "    def __len__(self):\n",
    "        return len(os.listdir(self.path_clean))\n",
    "    \n",
    "    def __getitem__(self, idx):\n",
    "        \n",
    "        data= dict()\n",
    "        data['clean']= torch.load(self.path_clean + '{0:04}'.format(idx))\n",
    "        data['noisy']= torch.load(self.path_noisy + '{0:04}'.format(idx))\n",
    "\n",
    "        return data\n",
    " "
   ]
  },
  {
   "cell_type": "code",
   "execution_count": 6,
   "id": "ae1e7588",
   "metadata": {},
   "outputs": [],
   "source": [
    "val_set=data(clean_val, noisy_val)\n",
    "\n",
    "#Dataloader\n",
    "val_dl = DataLoader(val_set, batch_size=1, shuffle=False)"
   ]
  },
  {
   "cell_type": "code",
   "execution_count": 7,
   "id": "8f205285",
   "metadata": {},
   "outputs": [],
   "source": [
    "#model= Unet().to(device)       ## unet\n",
    "model= Unet_Mixer().to(device)  ##mixer"
   ]
  },
  {
   "cell_type": "code",
   "execution_count": 8,
   "id": "13b63c32",
   "metadata": {},
   "outputs": [
    {
     "data": {
      "text/plain": [
       "<All keys matched successfully>"
      ]
     },
     "execution_count": 8,
     "metadata": {},
     "output_type": "execute_result"
    }
   ],
   "source": [
    "best_path= models_path + 'best_mixer_r_10000.pth'     ##path to trained model\n",
    "checkpoint = torch.load(best_path)\n",
    "model.load_state_dict(checkpoint['model_state_dict'])\n"
   ]
  },
  {
   "cell_type": "code",
   "execution_count": 9,
   "id": "ee2bca36",
   "metadata": {},
   "outputs": [],
   "source": [
    "#reconstruct function\n",
    "def denoise(model, sample): \n",
    "    model.eval()\n",
    "    \n",
    "    with torch.no_grad(): \n",
    "\n",
    "        noisy = sample['noisy'].to(device)\n",
    "        \n",
    "        #################### get the prediction ##############################\n",
    "       \n",
    "        pred = model(noisy)\n",
    "        img = torch.clamp(noisy-pred, 0, 1)                \n",
    "        \n",
    "        \n",
    "    return img"
   ]
  },
  {
   "cell_type": "code",
   "execution_count": 10,
   "id": "caf22f25",
   "metadata": {},
   "outputs": [
    {
     "data": {
      "application/vnd.jupyter.widget-view+json": {
       "model_id": "b75f8e543262424391487d776cbe8bd2",
       "version_major": 2,
       "version_minor": 0
      },
      "text/plain": [
       "HBox(children=(FloatProgress(value=0.0, max=330.0), HTML(value='')))"
      ]
     },
     "metadata": {},
     "output_type": "display_data"
    },
    {
     "name": "stdout",
     "output_type": "stream",
     "text": [
      "\n",
      "28.29967320300641\n"
     ]
    }
   ],
   "source": [
    "#PSNR of denoised images\n",
    "\n",
    "psnr=0\n",
    "\n",
    "with tqdm(total=len(val_dl)) as pbar:\n",
    "    for sample in val_dl: \n",
    "        pred=denoise(model,sample).detach().cpu().squeeze(0).numpy()\n",
    "        original=sample['clean'].squeeze(0).numpy()\n",
    "        psnr+= PSNR(pred,original)\n",
    "        pbar.update(1)\n",
    "\n",
    "print(psnr/len(val_dl))        "
   ]
  },
  {
   "cell_type": "code",
   "execution_count": 11,
   "id": "7c8d281f",
   "metadata": {},
   "outputs": [
    {
     "data": {
      "application/vnd.jupyter.widget-view+json": {
       "model_id": "50ccaa817c2f4e449dd753aaa5ae4c85",
       "version_major": 2,
       "version_minor": 0
      },
      "text/plain": [
       "HBox(children=(FloatProgress(value=0.0, max=330.0), HTML(value='')))"
      ]
     },
     "metadata": {},
     "output_type": "display_data"
    },
    {
     "name": "stdout",
     "output_type": "stream",
     "text": [
      "\n",
      "19.22195992449596\n"
     ]
    }
   ],
   "source": [
    "#PSNR of noisy images\n",
    "\n",
    "psnr=0\n",
    "\n",
    "with tqdm(total=len(val_dl)) as pbar:\n",
    "    for sample in val_dl: \n",
    "        pred= sample['noisy'].squeeze(0).numpy()\n",
    "        original=sample['clean'].squeeze(0).numpy()\n",
    "        psnr+= PSNR(pred,original)\n",
    "        pbar.update(1)\n",
    "\n",
    "print(psnr/len(val_dl))        "
   ]
  },
  {
   "cell_type": "code",
   "execution_count": null,
   "id": "e32ca9d7",
   "metadata": {},
   "outputs": [],
   "source": []
  }
 ],
 "metadata": {
  "kernelspec": {
   "display_name": "Python 3",
   "language": "python",
   "name": "python3"
  },
  "language_info": {
   "codemirror_mode": {
    "name": "ipython",
    "version": 3
   },
   "file_extension": ".py",
   "mimetype": "text/x-python",
   "name": "python",
   "nbconvert_exporter": "python",
   "pygments_lexer": "ipython3",
   "version": "3.8.3"
  }
 },
 "nbformat": 4,
 "nbformat_minor": 5
}
