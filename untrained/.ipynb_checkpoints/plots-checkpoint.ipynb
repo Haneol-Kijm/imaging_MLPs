{
 "cells": [
  {
   "cell_type": "code",
   "execution_count": null,
   "id": "e200de1e",
   "metadata": {},
   "outputs": [],
   "source": [
    "import numpy as np\n",
    "import matplotlib as mpl\n",
    "# Use the pgf backend (must be set before pyplot imported)\n",
    "mpl.use('pgf')\n",
    "\n",
    "import matplotlib.pyplot as plt\n",
    "\n",
    "plt.rcParams.update({\n",
    "    \"pgf.texsystem\": \"pdflatex\",\n",
    "    \"font.family\": \"serif\",  # use serif/main font for text elements\n",
    "    \"text.usetex\": True,     # use inline math for ticks\n",
    "    \"pgf.rcfonts\": False     # don't setup fonts from rc parameters\n",
    "    })\n"
   ]
  },
  {
   "cell_type": "code",
   "execution_count": null,
   "id": "c62c258f",
   "metadata": {},
   "outputs": [],
   "source": [
    "x_unet =  np.array([1.70, 2.45, 3.34, 7.76])\n",
    "y_unet =  np.array([26.49, 27.18, 27.23, 28.20])\n",
    "\n",
    "x_mixer = np.array([1.66, 2.40, 3.44, 6.61])\n",
    "y_mixer = np.array([27.85, 28.45, 28.63, 29.14])"
   ]
  },
  {
   "cell_type": "code",
   "execution_count": null,
   "id": "e5210e2f",
   "metadata": {},
   "outputs": [],
   "source": [
    "plt.xlabel('Numer of Parameters (M)')\n",
    "plt.ylabel('PSNR (DB)')\n",
    "\n",
    "plt.plot(x_unet,y_unet,marker=\"o\", label= 'Unet')\n",
    "plt.plot(x_mixer,y_mixer,marker=\"x\", label= 'Mixer') \n",
    "\n",
    "plt.legend(loc='lower right')\n",
    "plt.show()\n",
    "plt.savefig('norm.pgf', format='pgf')"
   ]
  },
  {
   "cell_type": "code",
   "execution_count": null,
   "id": "9099ee88",
   "metadata": {},
   "outputs": [],
   "source": []
  },
  {
   "cell_type": "code",
   "execution_count": null,
   "id": "06521649",
   "metadata": {},
   "outputs": [],
   "source": [
    "#import numpy as np\n",
    "\n",
    "#import matplotlib.pyplot as plt\n",
    "\n",
    "#from matplotlib.pyplot import *\n",
    "#%matplotlib inline\n",
    " \n",
    "#from IPython.display import set_matplotlib_formats\n",
    "#set_matplotlib_formats('pdf')"
   ]
  },
  {
   "cell_type": "code",
   "execution_count": null,
   "id": "c1ba88ce",
   "metadata": {},
   "outputs": [],
   "source": []
  }
 ],
 "metadata": {
  "kernelspec": {
   "display_name": "Python 3",
   "language": "python",
   "name": "python3"
  },
  "language_info": {
   "codemirror_mode": {
    "name": "ipython",
    "version": 3
   },
   "file_extension": ".py",
   "mimetype": "text/x-python",
   "name": "python",
   "nbconvert_exporter": "python",
   "pygments_lexer": "ipython3",
   "version": "3.8.3"
  }
 },
 "nbformat": 4,
 "nbformat_minor": 5
}
