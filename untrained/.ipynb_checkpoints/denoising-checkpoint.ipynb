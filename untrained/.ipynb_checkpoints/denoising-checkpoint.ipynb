{
 "cells": [
  {
   "cell_type": "code",
   "execution_count": null,
   "id": "b2ba91c2",
   "metadata": {},
   "outputs": [],
   "source": [
    "device = 'cuda:3'"
   ]
  },
  {
   "cell_type": "code",
   "execution_count": null,
   "id": "4ede8932",
   "metadata": {},
   "outputs": [],
   "source": [
    "import numpy as np\n",
    "import torch\n",
    "import matplotlib.pyplot as plt\n",
    "from PIL import Image\n",
    "import os\n",
    "from tqdm import tqdm\n",
    "from include import *\n",
    "import torch.optim as optim"
   ]
  },
  {
   "cell_type": "code",
   "execution_count": null,
   "id": "7bd58b35",
   "metadata": {},
   "outputs": [],
   "source": [
    "def crop_center(img):    \n",
    "    new_width=256\n",
    "    new_height=256\n",
    "\n",
    "    width, height = img.size   # Get dimensions\n",
    "\n",
    "    left = (width - new_width)/2\n",
    "    top = (height - new_height)/2\n",
    "    right = (width + new_width)/2\n",
    "    bottom = (height + new_height)/2\n",
    "\n",
    "    # Crop the center of the image\n",
    "    img = img.crop((left, top, right, bottom))\n",
    "    \n",
    "    return np.array(img)\n",
    "\n",
    "def add_noise(img, sigma):\n",
    "    noise = np.float32(np.random.normal(0, sigma/255, (3,256,256)))\n",
    "    noisy_img=np.clip(img+noise,0,1)\n",
    "    \n",
    "    return noisy_img"
   ]
  },
  {
   "cell_type": "code",
   "execution_count": null,
   "id": "15d6c3bb",
   "metadata": {},
   "outputs": [],
   "source": [
    "img = Image.open('./parrot.jpg')\n",
    "img = crop_center(img)\n",
    "img = img.reshape(3,256,256)  \n",
    "clean_img = np.float32(img/np.max(img)) \n",
    "noisy_img = add_noise(clean_img, 50)"
   ]
  },
  {
   "cell_type": "code",
   "execution_count": null,
   "id": "bd1c4881",
   "metadata": {},
   "outputs": [],
   "source": [
    "f, plots = plt.subplots(1,2)\n",
    "plots[0].imshow(clean_img.reshape(256,256,3))\n",
    "plots[1].imshow(noisy_img.reshape(256,256,3))"
   ]
  },
  {
   "cell_type": "code",
   "execution_count": null,
   "id": "f7d37ace",
   "metadata": {},
   "outputs": [],
   "source": [
    "noisy_img = torch.FloatTensor(noisy_img).to(device)\n",
    "clean_img = torch.FloatTensor(clean_img).to(device)\n",
    "\n",
    "noise = noisy_img - clean_img\n",
    "Input = torch.rand((1,3,256,256)).to(device)"
   ]
  },
  {
   "cell_type": "code",
   "execution_count": null,
   "id": "5dddf14d",
   "metadata": {},
   "outputs": [],
   "source": [
    "model_a = Unet().to(device)\n",
    "model_b = Unet().to(device)\n",
    "model_c = Unet().to(device)"
   ]
  },
  {
   "cell_type": "code",
   "execution_count": null,
   "id": "3f36eccc",
   "metadata": {},
   "outputs": [],
   "source": [
    "##Functions\n",
    "\n",
    "##Loss\n",
    "def mse(gt: torch.Tensor, pred:torch.Tensor)-> torch.Tensor:\n",
    "    loss = torch.nn.MSELoss()\n",
    "    return loss(gt,pred)\n",
    "\n",
    "#train\n",
    "def train(model, optimizer, Input, clean_img, noisy_img):\n",
    "    model.train()\n",
    "    \n",
    "    # reset optimizer's gradient\n",
    "    optimizer.zero_grad()\n",
    "    \n",
    "    # get the prediction\n",
    "    pred = model(Input)\n",
    "\n",
    "    mse_noisy = mse(pred, noisy_img.unsqueeze(0))\n",
    "    mse_clean = mse(pred, clean_img.unsqueeze(0))\n",
    "    \n",
    "    #one step of training\n",
    "    mse_noisy.backward()\n",
    "    optimizer.step()\n",
    "\n",
    "    return mse_noisy.item(), mse_clean.item()\n",
    "\n",
    "\n",
    "def fit(model, optimizer, Input, img):\n",
    "    model.train()\n",
    "    \n",
    "    # reset optimizer's gradient\n",
    "    optimizer.zero_grad()\n",
    "    \n",
    "    # get the prediction\n",
    "    pred = model(Input)\n",
    "\n",
    "    mse_pred = mse(pred, img.unsqueeze(0))\n",
    "    \n",
    "    #one step of training\n",
    "    mse_pred.backward()\n",
    "    optimizer.step()\n",
    "\n",
    "    return mse_pred.item()\n"
   ]
  },
  {
   "cell_type": "code",
   "execution_count": null,
   "id": "d9fe3f54",
   "metadata": {},
   "outputs": [],
   "source": [
    "#fitting noisy image\n",
    "\n",
    "optimizer = optim.Adam(model_a.parameters(), lr=0.001, weight_decay=0)\n",
    "scheduler = optim.lr_scheduler.StepLR(optimizer, step_size=1000, gamma=0.5)\n",
    "\n",
    "max_epoch = 2000\n",
    "mse_noisy=[]\n",
    "mse_clean=[]\n",
    "\n",
    "\n",
    "for i in range(max_epoch):\n",
    "    \n",
    "    a,b = train(model_a, optimizer, Input, clean_img, noisy_img)\n",
    "    \n",
    "    mse_noisy.append(a)\n",
    "    mse_clean.append(b)\n",
    "    \n",
    "    scheduler.step()\n",
    "    \n",
    "    if i%50 == 0:\n",
    "        print(i, a,b, end='\\r')\n",
    "        \n"
   ]
  },
  {
   "cell_type": "code",
   "execution_count": null,
   "id": "542deb96",
   "metadata": {},
   "outputs": [],
   "source": [
    "#fitting clean image\n",
    "\n",
    "optimizer = optim.Adam(model_b.parameters(), lr=0.1, weight_decay=0)\n",
    "#scheduler = optim.lr_scheduler.StepLR(optimizer, step_size=1000, gamma=0.5)\n",
    "\n",
    "max_epoch = 5000\n",
    "clean=[]\n",
    "\n",
    "for i in range(max_epoch):\n",
    "    \n",
    "    err = fit(model_b, optimizer, Input, clean_img)\n",
    "    clean.append(err)\n",
    "\n",
    "    #scheduler.step()\n",
    "    \n",
    "    if i%50 == 0:\n",
    "        print(i, err, end='\\r')"
   ]
  },
  {
   "cell_type": "code",
   "execution_count": null,
   "id": "b1c19b8a",
   "metadata": {},
   "outputs": [],
   "source": [
    "#fitting noise\n",
    "\n",
    "optimizer = optim.Adam(model_c.parameters(), lr=0.1, weight_decay=0)\n",
    "#scheduler = optim.lr_scheduler.StepLR(optimizer, step_size=1000, gamma=0.5)\n",
    "\n",
    "max_epoch = 5000\n",
    "noisy=[]\n",
    "\n",
    "for i in range(max_epoch):\n",
    "    \n",
    "    err = fit(model_c, optimizer, Input, noise)\n",
    "    noisy.append(err)\n",
    "\n",
    "    #scheduler.step()\n",
    "    \n",
    "    if i%50 == 0:\n",
    "        print(i, err, end='\\r')"
   ]
  },
  {
   "cell_type": "code",
   "execution_count": null,
   "id": "9b5acf3a",
   "metadata": {},
   "outputs": [],
   "source": [
    "plt.plot(clean)\n",
    "plt.xscale(\"log\")"
   ]
  },
  {
   "cell_type": "code",
   "execution_count": null,
   "id": "40d8de1b",
   "metadata": {},
   "outputs": [],
   "source": [
    "plt.plot(noisy)\n",
    "plt.xscale(\"log\")"
   ]
  },
  {
   "cell_type": "code",
   "execution_count": null,
   "id": "ec0d5bd7",
   "metadata": {},
   "outputs": [],
   "source": [
    "plt.plot(mse_clean[35:])\n",
    "plt.xscale(\"log\")"
   ]
  },
  {
   "cell_type": "code",
   "execution_count": null,
   "id": "d63ee192",
   "metadata": {},
   "outputs": [],
   "source": []
  }
 ],
 "metadata": {
  "kernelspec": {
   "display_name": "Python 3",
   "language": "python",
   "name": "python3"
  },
  "language_info": {
   "codemirror_mode": {
    "name": "ipython",
    "version": 3
   },
   "file_extension": ".py",
   "mimetype": "text/x-python",
   "name": "python",
   "nbconvert_exporter": "python",
   "pygments_lexer": "ipython3",
   "version": "3.8.3"
  }
 },
 "nbformat": 4,
 "nbformat_minor": 5
}
