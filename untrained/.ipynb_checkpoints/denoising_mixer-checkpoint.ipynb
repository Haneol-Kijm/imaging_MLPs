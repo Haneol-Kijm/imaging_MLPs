{
 "cells": [
  {
   "cell_type": "code",
   "execution_count": null,
   "id": "b2ba91c2",
   "metadata": {},
   "outputs": [],
   "source": [
    "device = 'cuda:3'"
   ]
  },
  {
   "cell_type": "code",
   "execution_count": null,
   "id": "4ede8932",
   "metadata": {},
   "outputs": [],
   "source": [
    "import numpy as np\n",
    "import copy\n",
    "import torch\n",
    "import matplotlib.pyplot as plt\n",
    "from PIL import Image\n",
    "import os\n",
    "from tqdm import tqdm\n",
    "from include import *\n",
    "import torch.optim as optim\n",
    "from skimage.metrics import peak_signal_noise_ratio\n",
    "PSNR= peak_signal_noise_ratio\n",
    "import bm3d"
   ]
  },
  {
   "cell_type": "code",
   "execution_count": null,
   "id": "7bd58b35",
   "metadata": {},
   "outputs": [],
   "source": [
    "def crop_center(img):    \n",
    "    new_width=256\n",
    "    new_height=256\n",
    "\n",
    "    width, height = img.size   # Get dimensions\n",
    "\n",
    "    left = (width - new_width)/2\n",
    "    top = (height - new_height)/2\n",
    "    right = (width + new_width)/2\n",
    "    bottom = (height + new_height)/2\n",
    "\n",
    "    # Crop the center of the image\n",
    "    img = img.crop((left, top, right, bottom))\n",
    "    \n",
    "    return np.array(img)\n",
    "\n",
    "def add_noise(img, sigma):\n",
    "    np.random.seed(1)\n",
    "    noise = np.float32(np.random.normal(0, sigma/255, (256,256))) \n",
    "    noisy_img=np.clip(img+noise,0,1)\n",
    "    \n",
    "    return noisy_img"
   ]
  },
  {
   "cell_type": "code",
   "execution_count": null,
   "id": "15d6c3bb",
   "metadata": {},
   "outputs": [],
   "source": [
    "img = Image.open('./car.png').convert('L')\n",
    "img = crop_center(img)\n",
    "\n",
    "clean_img = np.float32(img/np.max(img)) \n",
    "noisy_img = add_noise(clean_img, 30)"
   ]
  },
  {
   "cell_type": "code",
   "execution_count": null,
   "id": "bd1c4881",
   "metadata": {},
   "outputs": [],
   "source": [
    "plt.gray()\n",
    "f, plots = plt.subplots(1,2)\n",
    "plots[0].imshow(clean_img)\n",
    "plots[1].imshow(noisy_img)"
   ]
  },
  {
   "cell_type": "code",
   "execution_count": null,
   "id": "f7d37ace",
   "metadata": {},
   "outputs": [],
   "source": [
    "noisy_img = torch.FloatTensor(noisy_img).to(device)\n",
    "clean_img = torch.FloatTensor(clean_img).to(device)\n",
    "\n",
    "noise = noisy_img - clean_img\n",
    "noise = noise*torch.norm(clean_img)/torch.norm(noise)\n",
    "\n",
    "torch.manual_seed(1)\n",
    "Input = torch.rand((1,1,256,256)).to(device)"
   ]
  },
  {
   "cell_type": "code",
   "execution_count": null,
   "id": "5dddf14d",
   "metadata": {},
   "outputs": [],
   "source": [
    "model_a = Unet_Mixer().to(device)\n",
    "model_b = copy.deepcopy(model_a)\n",
    "model_c = copy.deepcopy(model_a)"
   ]
  },
  {
   "cell_type": "code",
   "execution_count": null,
   "id": "3f36eccc",
   "metadata": {},
   "outputs": [],
   "source": [
    "##Functions\n",
    "\n",
    "##Loss\n",
    "def mse(gt: torch.Tensor, pred:torch.Tensor)-> torch.Tensor:\n",
    "    loss = torch.nn.MSELoss()\n",
    "    return loss(gt,pred)\n",
    "\n",
    "#train\n",
    "def train(model, optimizer, Input, clean_img, noisy_img):\n",
    "    model.train()\n",
    "    \n",
    "    # reset optimizer's gradient\n",
    "    optimizer.zero_grad()\n",
    "    \n",
    "    # get the prediction\n",
    "    pred = model(Input)\n",
    "    #pred = torch.clamp(pred,0,1)\n",
    "\n",
    "    mse_noisy = mse(pred, noisy_img.unsqueeze(0).unsqueeze(0))\n",
    "    mse_clean = mse(pred, clean_img.unsqueeze(0).unsqueeze(0))\n",
    "    \n",
    "    #one step of training\n",
    "    mse_noisy.backward()\n",
    "    optimizer.step()\n",
    "\n",
    "    return mse_noisy.item(), mse_clean.item()\n",
    "\n",
    "\n",
    "def fit(model, optimizer, Input, img):\n",
    "    model.train()\n",
    "    \n",
    "    # reset optimizer's gradient\n",
    "    optimizer.zero_grad()\n",
    "    \n",
    "    # get the prediction\n",
    "    pred = model(Input)\n",
    "    #pred = torch.clamp(pred,0,1)\n",
    "\n",
    "    mse_pred = mse(pred, img.unsqueeze(0).unsqueeze(0))\n",
    "    \n",
    "    #one step of training\n",
    "    mse_pred.backward()\n",
    "    optimizer.step()\n",
    "\n",
    "    return mse_pred.item()\n"
   ]
  },
  {
   "cell_type": "code",
   "execution_count": null,
   "id": "f1498807",
   "metadata": {},
   "outputs": [],
   "source": [
    "# fitting noisy image\n",
    "\n",
    "max_epoch = 1501\n",
    "lr = 0.0005\n",
    "decay_step = 500\n",
    "decay_gamma = 0.5\n",
    "iterations=[0,10,50,100,700,1100,1500]\n",
    "\n",
    "\n",
    "\n",
    "optimizer = optim.Adam(model_a.parameters(), lr=lr, weight_decay=0)\n",
    "scheduler = optim.lr_scheduler.StepLR(optimizer, step_size=decay_step, gamma=decay_gamma)\n",
    "\n",
    "denoised= []\n",
    "mse_noisy=[]\n",
    "mse_clean=[]\n",
    "err=999999\n",
    "\n",
    "\n",
    "for i in range(max_epoch):\n",
    "    \n",
    "    a,b = train(model_a, optimizer, Input, clean_img, noisy_img)\n",
    "    \n",
    "    mse_noisy.append(a)\n",
    "    mse_clean.append(b)\n",
    "    \n",
    "    scheduler.step()\n",
    "    \n",
    "    with torch.no_grad(): \n",
    "        if i in iterations:\n",
    "            denoised.append(model_a(Input).squeeze(0).squeeze(0))\n",
    "\n",
    "        if b<err:\n",
    "            err = b\n",
    "            best = model_a(Input).squeeze(0).squeeze(0)\n",
    "            best_i=i\n",
    "\n",
    "    if i%50 == 0:\n",
    "        print(i, a,b, end='\\r')\n",
    "        \n"
   ]
  },
  {
   "cell_type": "code",
   "execution_count": null,
   "id": "542deb96",
   "metadata": {},
   "outputs": [],
   "source": [
    "#fitting clean image\n",
    "\n",
    "optimizer = optim.Adam(model_b.parameters(), lr=lr, weight_decay=0)\n",
    "scheduler = optim.lr_scheduler.StepLR(optimizer, step_size=decay_step, gamma=decay_gamma)\n",
    "\n",
    "clean=[]\n",
    "\n",
    "\n",
    "for i in range(max_epoch):\n",
    "    \n",
    "    err = fit(model_b, optimizer, Input, clean_img)\n",
    "    clean.append(err)\n",
    "\n",
    "    scheduler.step()\n",
    "    \n",
    "    if i%50 == 0:\n",
    "        print(i, err, end='\\r')"
   ]
  },
  {
   "cell_type": "code",
   "execution_count": null,
   "id": "b1c19b8a",
   "metadata": {},
   "outputs": [],
   "source": [
    "#fitting noise\n",
    "\n",
    "optimizer = optim.Adam(model_c.parameters(), lr=lr, weight_decay=0)\n",
    "scheduler = optim.lr_scheduler.StepLR(optimizer, step_size=decay_step, gamma=decay_gamma)\n",
    "\n",
    "noisy=[]\n",
    "\n",
    "\n",
    "for i in range(max_epoch):\n",
    "    \n",
    "    err = fit(model_c, optimizer, Input, noise)\n",
    "    noisy.append(err)\n",
    "\n",
    "    scheduler.step()\n",
    "    \n",
    "    if i%50 == 0:\n",
    "        print(i, err, end='\\r')"
   ]
  },
  {
   "cell_type": "code",
   "execution_count": null,
   "id": "ec0d5bd7",
   "metadata": {},
   "outputs": [],
   "source": [
    "#mse_clean.insert(0,mse_clean[0])\n",
    "plt.plot(mse_clean[150:])\n",
    "plt.xlabel('Iteration')\n",
    "plt.ylabel('MSE')\n",
    "plt.xscale(\"log\")"
   ]
  },
  {
   "cell_type": "code",
   "execution_count": null,
   "id": "9b5acf3a",
   "metadata": {},
   "outputs": [],
   "source": [
    "noisy.insert(0,noisy[0])\n",
    "clean.insert(0,clean[0])\n",
    "\n",
    "plt.plot(clean[0:], label ='clean')\n",
    "plt.plot(noisy[0:], label = 'noise')\n",
    "plt.xlabel('Iteration')\n",
    "plt.ylabel('MSE')\n",
    "plt.legend()\n",
    "plt.xscale(\"log\")"
   ]
  },
  {
   "cell_type": "code",
   "execution_count": null,
   "id": "3c18f5e2",
   "metadata": {},
   "outputs": [],
   "source": [
    "for j in range (len(iterations)):\n",
    "    if best_i<iterations[j]:\n",
    "        break\n",
    "\n",
    "denoised.insert(j,best)\n",
    "iterations = np.insert(iterations,j,best_i)\n",
    "\n",
    "L=len(iterations)"
   ]
  },
  {
   "cell_type": "code",
   "execution_count": null,
   "id": "cb957f88",
   "metadata": {},
   "outputs": [],
   "source": [
    "bm3d_img = np.clip(bm3d.bm3d(noisy_img.cpu().numpy(), 30/255),0,1).astype('float32')"
   ]
  },
  {
   "cell_type": "code",
   "execution_count": null,
   "id": "f54a639a",
   "metadata": {},
   "outputs": [],
   "source": [
    "psnr=[]\n",
    "\n",
    "for i in range(L):\n",
    "    restored=np.clip(denoised[i].cpu().numpy(),0,1)\n",
    "    psnr.append(PSNR(restored,clean_img.cpu().numpy()))\n",
    "\n",
    "psnr.append(PSNR(bm3d_img, clean_img.cpu().numpy()))    "
   ]
  },
  {
   "cell_type": "code",
   "execution_count": null,
   "id": "651ddcb3",
   "metadata": {},
   "outputs": [],
   "source": [
    "fig, ax = plt.subplots(1, L+2,figsize=(20, 20))\n",
    "for i in range(L):\n",
    "    ax[i].imshow(denoised[i].cpu().numpy())\n",
    "    ax[i].set_xticks([])\n",
    "    ax[i].set_yticks([])\n",
    "    \n",
    "    if i == j:\n",
    "        ax[i].set_title('Best Iteration: '+ str(iterations[i])+'\\n' +'PSNR:' +str(np.around(psnr[i],1)))\n",
    "    else:\n",
    "        ax[i].set_title('Iteration: '+ str(iterations[i])+'\\n' +'PSNR:' +str(np.around(psnr[i],1)))\n",
    "        \n",
    "\n",
    "ax[L].imshow(bm3d_img)\n",
    "ax[L].set_xticks([])\n",
    "ax[L].set_yticks([])\n",
    "ax[L].set_title('BM3D'+'\\n' +'PSNR:' +str(np.around(psnr[L],1)))\n",
    "\n",
    "ax[L+1].imshow(clean_img.cpu().numpy())\n",
    "ax[L+1].set_xticks([])\n",
    "ax[L+1].set_yticks([])\n",
    "ax[L+1].set_title('Clean Image')\n",
    "\n",
    "\n",
    "    "
   ]
  },
  {
   "cell_type": "code",
   "execution_count": null,
   "id": "a36fe444",
   "metadata": {},
   "outputs": [],
   "source": []
  }
 ],
 "metadata": {
  "kernelspec": {
   "display_name": "Python 3",
   "language": "python",
   "name": "python3"
  },
  "language_info": {
   "codemirror_mode": {
    "name": "ipython",
    "version": 3
   },
   "file_extension": ".py",
   "mimetype": "text/x-python",
   "name": "python",
   "nbconvert_exporter": "python",
   "pygments_lexer": "ipython3",
   "version": "3.8.3"
  }
 },
 "nbformat": 4,
 "nbformat_minor": 5
}
