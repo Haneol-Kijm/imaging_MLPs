{
 "cells": [
  {
   "cell_type": "code",
   "execution_count": 1,
   "id": "a0ed8671",
   "metadata": {},
   "outputs": [],
   "source": [
    "run config"
   ]
  },
  {
   "cell_type": "code",
   "execution_count": 2,
   "id": "f837b256",
   "metadata": {},
   "outputs": [],
   "source": [
    "import bm3d\n",
    "import numpy as np\n",
    "from tqdm.notebook import tqdm\n",
    "import os\n",
    "\n",
    "import torch\n",
    "\n",
    "from skimage.metrics import peak_signal_noise_ratio\n",
    "PSNR= peak_signal_noise_ratio"
   ]
  },
  {
   "cell_type": "code",
   "execution_count": 3,
   "id": "55d323c4",
   "metadata": {},
   "outputs": [],
   "source": [
    "##Load paths \n",
    "clean_val= data_path + 'clean_val/'\n",
    "noisy_val= data_path + 'noisy_val/'"
   ]
  },
  {
   "cell_type": "code",
   "execution_count": 4,
   "id": "1ea55a96",
   "metadata": {},
   "outputs": [],
   "source": [
    "##Prepare data\n",
    "class data():\n",
    "    \n",
    "    def __init__(self, path_clean, path_noisy):\n",
    "        self.path_clean = path_clean\n",
    "        self.path_noisy = path_noisy\n",
    "        \n",
    "    def __len__(self):\n",
    "        return len(os.listdir(self.path_clean))\n",
    "    \n",
    "    def __getitem__(self, idx):\n",
    "        \n",
    "        data= dict()\n",
    "        data['clean']= torch.load(self.path_clean + '{0:04}'.format(idx))\n",
    "        data['noisy']= torch.load(self.path_noisy + '{0:04}'.format(idx))\n",
    "\n",
    "        return data\n",
    " "
   ]
  },
  {
   "cell_type": "code",
   "execution_count": 5,
   "id": "15aacaad",
   "metadata": {},
   "outputs": [],
   "source": [
    "val_set=data(clean_val, noisy_val)"
   ]
  },
  {
   "cell_type": "code",
   "execution_count": null,
   "id": "a748f4c8",
   "metadata": {},
   "outputs": [
    {
     "data": {
      "application/vnd.jupyter.widget-view+json": {
       "model_id": "1c5fff6c787544568a191befd629247f",
       "version_major": 2,
       "version_minor": 0
      },
      "text/plain": [
       "HBox(children=(FloatProgress(value=0.0, max=704.0), HTML(value='')))"
      ]
     },
     "metadata": {},
     "output_type": "display_data"
    }
   ],
   "source": [
    "psnr=0\n",
    "\n",
    "for i in tqdm(range(len(val_set))):\n",
    "    noisy_img = val_set[i]['noisy'].permute(1,2,0).numpy()\n",
    "    original = val_set[i]['clean'].permute(1,2,0).numpy()\n",
    "    P= PSNR(noisy_img,original)\n",
    "    sigma= 3/np.power(10,P/20)\n",
    "    cleaned_img = bm3d.bm3d(noisy_img, sigma)\n",
    "    img = np.float32(np.clip(cleaned_img,0,1))\n",
    "    \n",
    "    psnr+= PSNR(img,original) \n",
    "        \n",
    "print(psnr/len(val_set)) "
   ]
  }
 ],
 "metadata": {
  "kernelspec": {
   "display_name": "Python 3",
   "language": "python",
   "name": "python3"
  },
  "language_info": {
   "codemirror_mode": {
    "name": "ipython",
    "version": 3
   },
   "file_extension": ".py",
   "mimetype": "text/x-python",
   "name": "python",
   "nbconvert_exporter": "python",
   "pygments_lexer": "ipython3",
   "version": "3.8.3"
  }
 },
 "nbformat": 4,
 "nbformat_minor": 5
}
